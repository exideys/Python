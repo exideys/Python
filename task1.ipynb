{
 "cells": [
  {
   "cell_type": "code",
   "execution_count": null,
   "id": "925b5071-9653-4b89-beb8-78f36be4ed3f",
   "metadata": {},
   "outputs": [],
   "source": [
    "# Площа Гани\n",
    "_**238,533 кв. км**_\n",
    "# Населення\n",
    "_**32 мільйони осіб**_\n",
    "\n",
    "## Державний устрій\n",
    "_**Унітарна республіка**_\n",
    "\n",
    "## Видатні персоналії\n",
    "- Кваме Нкрума — перший президент І борець за незалежність\n",
    "- Кофі Аннан — генеральний секретар ООН в 1997-2006 роках\n",
    "\n",
    "## Пам'ятки культури та природи\n",
    "- Замок Капе Костанц (Спадщина ООН)\n",
    "- Парк Какум — ліс з підвісними мостами\n",
    "\n",
    "## Викладені списки\n",
    "- Економіка:\n",
    "  - Сільське господарство\n",
    "    - Шоколад\n",
    "    - Кава\n",
    "  - Видобуток комодитів\n",
    "    - Золото\n",
    "    - Нафта\n",
    "\n",
    "## Парк Какум\n",
    "![Парк Какум](https://upload.wikimedia.org/wikipedia/commons/thumb/d/df/Kakum_National_Park.jpg/800px-Kakum_National_Park.jpg)\n",
    "\n",
    "## Замок Капе Костанц\n",
    "![Замок Капе Костанц](https://cdn.tripster.ru/thumbs2/e82a6784-7dbd-11ec-83f4-3e0061e45929.384x289.jpeg)\n",
    "## Гіперпосилання\n",
    "[Посилання на Гану(википедия)](https://uk.wikipedia.org/wiki/Гана)\n",
    "\n",
    "\n"
   ]
  },
  {
   "cell_type": "code",
   "execution_count": 20,
   "id": "bf44b297-2a8d-4119-acf1-33c4431b5d92",
   "metadata": {},
   "outputs": [
    {
     "data": {
      "text/html": [
       "<svg width=\"900\" height=\"600\" viewBox=\"0 0 3 2\" xmlns=\"http://www.w3.org/2000/svg\">\n",
       "  <rect width=\"3\" height=\"2\" fill=\"#006B3F\"/>\n",
       "  <rect width=\"3\" height=\"1.333\" fill=\"#FCD116\"/>\n",
       "  <rect width=\"3\" height=\"0.666\" fill=\"#CE1126\"/>\n",
       "  <polygon points=\"1.5,0.55 1.618,0.873 1.972,0.873 1.691,1.087 1.809,1.411 1.5,1.2 1.191,1.411 1.309,1.087 1.028,0.873 1.382,0.873\" fill=\"#000\"/>\n",
       "</svg>\n",
       "\n",
       "\n",
       "\n",
       "\n",
       "\n"
      ],
      "text/plain": [
       "<IPython.core.display.HTML object>"
      ]
     },
     "metadata": {},
     "output_type": "display_data"
    }
   ],
   "source": [
    "\n",
    "%%HTML\n",
    "<svg width=\"900\" height=\"600\" viewBox=\"0 0 3 2\" xmlns=\"http://www.w3.org/2000/svg\">\n",
    "  <rect width=\"3\" height=\"2\" fill=\"#006B3F\"/>\n",
    "  <rect width=\"3\" height=\"1.333\" fill=\"#FCD116\"/>\n",
    "  <rect width=\"3\" height=\"0.666\" fill=\"#CE1126\"/>\n",
    "  <polygon points=\"1.5,0.55 1.618,0.873 1.972,0.873 1.691,1.087 1.809,1.411 1.5,1.2 1.191,1.411 1.309,1.087 1.028,0.873 1.382,0.873\" fill=\"#000\"/>\n",
    "</svg>\n",
    "\n",
    "\n",
    "\n",
    "\n",
    "\n"
   ]
  },
  {
   "cell_type": "code",
   "execution_count": 3,
   "id": "7c5f4e03-640c-4118-9354-166d29284436",
   "metadata": {},
   "outputs": [],
   "source": [
    "def task_4():\n",
    "    while True:\n",
    "        text = input('Введіть індекс простого числа: ')\n",
    "        if not text.isdigit():\n",
    "            print(\"Помилка,введіть коректне значення\")\n",
    "        else:\n",
    "            a = int(text)\n",
    "            break\n",
    "    b = [2]\n",
    "    for i in range(a - 1):\n",
    "        j = b[i] + 1\n",
    "        while True:\n",
    "            if sum(1 for k in range(1, j + 1) if j % k == 0) == 2:\n",
    "                b.append(j)\n",
    "                break\n",
    "            j += 1\n",
    "    return b[-1]\n"
   ]
  },
  {
   "cell_type": "code",
   "execution_count": 4,
   "id": "547afdb7-ce64-4a4c-92d9-3bd3c3798c00",
   "metadata": {},
   "outputs": [
    {
     "name": "stdin",
     "output_type": "stream",
     "text": [
      "Введіть індекс простого числа:  5\n"
     ]
    },
    {
     "data": {
      "text/plain": [
       "11"
      ]
     },
     "execution_count": 4,
     "metadata": {},
     "output_type": "execute_result"
    }
   ],
   "source": [
    "task_4()"
   ]
  },
  {
   "cell_type": "code",
   "execution_count": null,
   "id": "3fc0821d-5fd2-4af4-8a6b-1cfcc868e3b0",
   "metadata": {},
   "outputs": [],
   "source": []
  }
 ],
 "metadata": {
  "kernelspec": {
   "display_name": "Python 3 (ipykernel)",
   "language": "python",
   "name": "python3"
  },
  "language_info": {
   "codemirror_mode": {
    "name": "ipython",
    "version": 3
   },
   "file_extension": ".py",
   "mimetype": "text/x-python",
   "name": "python",
   "nbconvert_exporter": "python",
   "pygments_lexer": "ipython3",
   "version": "3.11.5"
  }
 },
 "nbformat": 4,
 "nbformat_minor": 5
}
